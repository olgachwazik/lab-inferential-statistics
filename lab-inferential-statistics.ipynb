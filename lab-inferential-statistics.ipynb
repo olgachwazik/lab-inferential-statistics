{
 "cells": [
  {
   "cell_type": "markdown",
   "id": "43c78375",
   "metadata": {},
   "source": [
    "It is assumed that the mean systolic blood pressure is μ = 120 mm Hg. In the Honolulu Heart Study, a sample of n = 100 people had an average systolic blood pressure of 130.1 mm Hg with a standard deviation of 21.21 mm Hg. Is the group significantly different (with respect to systolic blood pressure!) from the regular population?\n",
    "\n",
    "Set up the hypothesis test.\n",
    "Write down all the steps followed for setting up the test.\n",
    "Calculate the test statistic by hand and also code it in Python. It should be 4.76190. We will take a look at how to make decisions based on this calculated value."
   ]
  },
  {
   "cell_type": "markdown",
   "id": "2460a2df",
   "metadata": {},
   "source": [
    "#### Null hypothesis: \n",
    "HHS sample's mean systolic blood pressure is the same as the population mean systolic blood pressure. "
   ]
  },
  {
   "cell_type": "code",
   "execution_count": 1,
   "id": "bacfcf78",
   "metadata": {},
   "outputs": [],
   "source": [
    "# creating variables for the test\n",
    "pop_mean = 120\n",
    "pop_std = 21.21\n",
    "n = 100\n",
    "sample_mean = 130.1"
   ]
  },
  {
   "cell_type": "code",
   "execution_count": 2,
   "id": "cec1326f",
   "metadata": {},
   "outputs": [
    {
     "name": "stdout",
     "output_type": "stream",
     "text": [
      "T-statistic calculated by hand is:  4.7619\n"
     ]
    }
   ],
   "source": [
    "# Calculating statistic by hand:\n",
    "import math\n",
    "\n",
    "statistic = (sample_mean - pop_mean)/(pop_std/math.sqrt(n))\n",
    "print (\"T-statistic calculated by hand is: \", round(statistic,4))"
   ]
  },
  {
   "cell_type": "code",
   "execution_count": 6,
   "id": "b55a349d",
   "metadata": {},
   "outputs": [
    {
     "name": "stdout",
     "output_type": "stream",
     "text": [
      "T-statistic from Python calculation is:  5.452104973965612\n",
      "We can reject null hypothesis.\n"
     ]
    }
   ],
   "source": [
    "# Calculating statistic in Python:\n",
    "\n",
    "from scipy import stats\n",
    "import numpy as np\n",
    "# creating the sample: \n",
    "hhs_sample = np.random.normal(sample_mean, pop_std, n)\n",
    "# t-test:\n",
    "t_statistic, p_value = stats.ttest_1samp(hhs_sample, pop_mean)\n",
    "print (\"T-statistic from Python calculation is: \", t_statistic)\n",
    "alpha = 0.05\n",
    "if p_value < alpha: \n",
    "    print (\"We can reject null hypothesis.\")\n",
    "else: \n",
    "    print (\"We can not rejest the null hypothesis.\")"
   ]
  },
  {
   "cell_type": "markdown",
   "id": "188d634e",
   "metadata": {},
   "source": [
    "#### Conclusion: \n",
    "Considering the calculated statistic of 4.7619 is higher than the z-value (1.984) and falls within the critical region, we can reject the null hypothesis. It means that with 95% of confidence HHS sample's mean systolic blood pressure is not the same as the population mean systolic blood pressure. "
   ]
  },
  {
   "cell_type": "code",
   "execution_count": null,
   "id": "82919ed5",
   "metadata": {},
   "outputs": [],
   "source": []
  }
 ],
 "metadata": {
  "kernelspec": {
   "display_name": "Python 3 (ipykernel)",
   "language": "python",
   "name": "python3"
  },
  "language_info": {
   "codemirror_mode": {
    "name": "ipython",
    "version": 3
   },
   "file_extension": ".py",
   "mimetype": "text/x-python",
   "name": "python",
   "nbconvert_exporter": "python",
   "pygments_lexer": "ipython3",
   "version": "3.10.9"
  }
 },
 "nbformat": 4,
 "nbformat_minor": 5
}
